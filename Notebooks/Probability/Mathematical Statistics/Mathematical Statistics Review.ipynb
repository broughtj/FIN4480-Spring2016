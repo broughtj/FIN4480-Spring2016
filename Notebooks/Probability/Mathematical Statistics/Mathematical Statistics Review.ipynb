{
 "cells": [
  {
   "cell_type": "code",
   "execution_count": 5,
   "metadata": {
    "collapsed": false
   },
   "outputs": [],
   "source": [
    "from IPython.external import mathjax"
   ]
  },
  {
   "cell_type": "markdown",
   "metadata": {},
   "source": [
    "# Mathematical Statistics Review"
   ]
  },
  {
   "cell_type": "markdown",
   "metadata": {},
   "source": [
    "## Introduction \n",
    "\n",
    "\n",
    "This is a review of fundamental mathematical statistics that will be\n",
    "essential for learning econometrics. The coverage is based on\n",
    "Wooldridge (Appendix C)."
   ]
  },
  {
   "cell_type": "markdown",
   "metadata": {},
   "source": [
    "**Statistical inference** is the process of learning something about a\n",
    "population given a sample from that population. Using the tools of\n",
    "statistics we will seek to *infer* something about the population, given\n",
    "only a sample."
   ]
  },
  {
   "cell_type": "markdown",
   "metadata": {},
   "source": [
    "A **population** is a well defined group of subjects, such as\n",
    "individuals, firms, cities, etc."
   ]
  },
  {
   "cell_type": "markdown",
   "metadata": {},
   "source": [
    "By learning, we mainly mean two things:\n",
    "\n",
    "-   Estimation\n",
    "\n",
    "-   Hypothesis Testing"
   ]
  },
  {
   "cell_type": "markdown",
   "metadata": {},
   "source": [
    "An example of a population is all working adults in the US. Labor\n",
    "economists are interested in learning about the return to education,\n",
    "measured by the average increase in earnings given another year of\n",
    "education. It is impractical or impossible to gather data on the entire\n",
    "population, but she can obtain data on a subset of the population. Using\n",
    "the data collected a labor economist may report that her best estimate\n",
    "of the return to another year of education is $7.5\\%$. This is an\n",
    "example of a **point estimate**. Or she may report a range, such as “the\n",
    "return to education is between $5.6\\%$ and $9.4\\%$.” This is an example\n",
    "of an **interval estimate**."
   ]
  },
  {
   "cell_type": "markdown",
   "metadata": {},
   "source": [
    "An urban economist might want to know whether neighborhood crime watch\n",
    "programs are associated with lower crime rates. After comparing crime\n",
    "rates of neighborhoods with and without such programs in a sample from\n",
    "the population, he can draw one of two conclusions: neighborhood watch\n",
    "programs do affect crime, or they do not. This is an example of\n",
    "**hypothesis testing**."
   ]
  },
  {
   "cell_type": "markdown",
   "metadata": {},
   "source": [
    "The first step in statistical inference is to identify the population of\n",
    "interest. Once a population has been identified, a model for the\n",
    "population relationship of interest may be specified. Models involve\n",
    "probability distributions or features of probability distributions, and\n",
    "these depend on unknown parameters. **Parameters** are constants that\n",
    "determine the directions and strengths of relationships among variables.\n",
    "In the labor economics example, the parameter of interest is the return\n",
    "to education in the population."
   ]
  },
  {
   "cell_type": "markdown",
   "metadata": {},
   "source": [
    "## Sampling "
   ]
  },
  {
   "cell_type": "markdown",
   "metadata": {},
   "source": [
    "Let $Y$ be a random variable representing a population with PDF\n",
    "$f(y; \\theta)$, which depends on a single parameter $\\theta$. The PDF is\n",
    "assumed to be known, except for $\\theta$. Different values of $\\theta$\n",
    "imply different population distributions, and therefore we are\n",
    "interested in $\\theta$. If we can obtain samples from the population we\n",
    "can learn something about $\\theta$."
   ]
  },
  {
   "cell_type": "markdown",
   "metadata": {},
   "source": [
    "### Random sampling:"
   ]
  },
  {
   "cell_type": "markdown",
   "metadata": {},
   "source": [
    "If $Y_{1}, Y_{2}, \\ldots Y_{n}$ are independent random variables with a\n",
    "common PDF $f(y; \\theta)$ then\n",
    "$\\left\\{Y_{1}, Y_{2}, \\ldots, Y_{n}\\right\\}$ is said to be a *random\n",
    "sample* from $f(y, \\theta)$ (a random sample represented by\n",
    "$f(y; \\theta)$)."
   ]
  },
  {
   "cell_type": "markdown",
   "metadata": {},
   "source": [
    "When $\\left\\{Y_{1}, Y_{2}, \\ldots, Y_{n}\\right\\}$ is a random sample\n",
    "from $f(y, \\theta)$, we also say that the $Y_{i}$ are **independent and\n",
    "identically distributed** (or iid) random variables from $f(y; \\theta)$."
   ]
  },
  {
   "cell_type": "markdown",
   "metadata": {},
   "source": [
    "If family income is obtained for $n = 100$ families in the US, the\n",
    "incomes we observe will differ for each sample of $100$ that we choose.\n",
    "Once a sample is obtained we have a set of number\n",
    "$\\left\\{y_{1}, y_{2}, \\ldots, y_{3}\\right\\}$, which constitute the data\n",
    "that we work with."
   ]
  },
  {
   "cell_type": "markdown",
   "metadata": {},
   "source": [
    "Random samples from Bernoulli distributions are often used to illustrate\n",
    "statistical concepts. If $Y_{1}, Y_{2}, \\ldots, Y_{n}$ are iid\n",
    "Bernoulli($\\theta$), such that $P(Y_{i} = 1) = \\theta$ and\n",
    "$P(Y_{i} = 0) = 1 - \\theta$ then\n",
    "$\\left\\{Y_{1}, Y_{2}, \\ldots, Y_{n}\\right\\}$ constitute a random sample\n",
    "from a Bernoull($\\theta$) distribution."
   ]
  },
  {
   "cell_type": "markdown",
   "metadata": {},
   "source": [
    "Consider the airline example: Each $Y_{i}$ denotes whether or not\n",
    "passenger $i$ shows up. $\\theta$ is the probability that a randomly\n",
    "drawn individual from the population shows up."
   ]
  },
  {
   "cell_type": "markdown",
   "metadata": {},
   "source": [
    "For many applications, random samples can be assumed to be drawn from a\n",
    "normal distribution. If $\\left\\{Y_{1}, Y_{2}, \\ldots, Y_{n}\\right\\}$ is\n",
    "a random sample from the Normal($\\mu$, $\\sigma^{2}$) population, the\n",
    "population is characterized by two parameters, the mean $mu$ and the\n",
    "variance $\\sigma^{2}$."
   ]
  },
  {
   "cell_type": "markdown",
   "metadata": {},
   "source": [
    "**Finite sample properties** are properties that hold for a sample of\n",
    "any size, no matter how small or large (sometimes called “small sample\n",
    "properties” to distinguish from “asymptotic properties”)."
   ]
  },
  {
   "cell_type": "markdown",
   "metadata": {},
   "source": [
    "## Estimation and Estimators "
   ]
  },
  {
   "cell_type": "markdown",
   "metadata": {},
   "source": [
    "Given a random sample drawn from a population distribution that depends\n",
    "on an unknown parameter $\\theta$. An **estimator** of $\\theta$ is a rule\n",
    "that assigns each possible outcome of the sample a value of $\\theta$.\n",
    "The rule is specified before any sampling is carried out (regardless of\n",
    "the data collected)."
   ]
  },
  {
   "cell_type": "markdown",
   "metadata": {},
   "source": [
    "Let $\\left\\{Y_{1}, Y_{2}, \\ldots, Y_{n}\\right\\}$ be a random sample from\n",
    "a population with mean $\\mu$. A natural estimator of $\\mu$ is the\n",
    "average of the random sample:\n",
    "\n",
    "$$\\bar{Y} = \\frac{1}{n}\\sum\\limits_{i=1}^{n} Y_{i}$$"
   ]
  },
  {
   "cell_type": "markdown",
   "metadata": {},
   "source": [
    "$\\bar{Y}$ is called the **sample average**; unlike earlier when we\n",
    "defined the average as a descriptive statistics, $\\bar{Y}$ is now viewed\n",
    "as an estimator. Given any outcome of the random variables\n",
    "$Y_{1}, Y_{2}, \\ldots, Y_{n}$, we use the same rule to estimate $\\mu$:\n",
    "we average them. For actual outcomes\n",
    "$\\left\\{y_{1}, y_{2}, \\ldots, y_{n}\\right\\}$, the estimate is just the\n",
    "average in the sample."
   ]
  },
  {
   "cell_type": "markdown",
   "metadata": {},
   "source": [
    "$$\\bar{y} = \\frac{(y_{1} + y_{2} + \\cdots + y_{n})}{n}$$\n",
    "\n",
    "More generally an estimator $W$ of a parameter $\\theta$ can be expressed\n",
    "as:\n",
    "\n",
    "$$W = h(Y_{1}, Y_{2}, \\ldots, Y_{n})$$"
   ]
  },
  {
   "cell_type": "markdown",
   "metadata": {},
   "source": [
    "for some known function $h$ of the random variables\n",
    "$Y_{1}, Y_{2}, \\ldots, Y_{n}$. $W$ is a random variable because it\n",
    "depends on the random sample: as we obtain different random samples from\n",
    "the population, the value of $W$ can change."
   ]
  },
  {
   "cell_type": "markdown",
   "metadata": {},
   "source": [
    "When a particular set of numbers\n",
    "$\\left\\{y_{1}, y_{2}, \\ldots, y_{n}\\right\\}$ is plugged into $h$, we\n",
    "obtain an *estimate* of $\\theta$, denoted\n",
    "$w = h(y_{1}, y_{2}, \\ldots, y_{n})$."
   ]
  },
  {
   "cell_type": "markdown",
   "metadata": {},
   "source": [
    "So we have that:\n",
    "\n",
    "-   $W$ is a point estimator\n",
    "-   $w$ is a point estimate"
   ]
  },
  {
   "cell_type": "markdown",
   "metadata": {},
   "source": [
    "To evaluate estimation procedures we study various properties of the PDF\n",
    "of $W$. The distribution of an estimator is called its **sampling\n",
    "distribution**. In mathematical statistics, we study the sampling\n",
    "distributions of estimators."
   ]
  },
  {
   "cell_type": "markdown",
   "metadata": {},
   "source": [
    "### Unbiasedness"
   ]
  },
  {
   "cell_type": "markdown",
   "metadata": {},
   "source": [
    "**Unbiasedness:** an estimator, $W$ of $\\theta$, is an unbiased\n",
    "estimator if\n",
    "\n",
    "$$E(W) = \\theta$$\n",
    "\n",
    "for all possible values of $\\theta$."
   ]
  },
  {
   "cell_type": "markdown",
   "metadata": {},
   "source": [
    "Remarks:\n",
    "\n",
    "-   If an estimator is unbiased, then its PDF has an expected value\n",
    "    equal to the parameter it is estimating. However, in any given\n",
    "    sample $E(W)$ may not equal $\\theta$.\n",
    "-   Rather, if we could indefinitely draw samples from the population,\n",
    "    getting an estimate each time, and then average these estimates over\n",
    "    all random samples we would obtain $\\theta$.\n",
    "-   This is just a thought experiment, because in reality we have only\n",
    "    one sample to work with. But this “what if” property is desirable\n",
    "    for estimators."
   ]
  },
  {
   "cell_type": "markdown",
   "metadata": {},
   "source": [
    "If $W$ is a **biased estimator** of $\\theta$, its bias is defined as\n",
    "\n",
    "$$Bias(W) = E(W) - \\theta$$"
   ]
  },
  {
   "cell_type": "markdown",
   "metadata": {},
   "source": [
    "Example: $\\bar{Y}$ is an unbiased estimator of the population mean,\n",
    "$\\mu$\n",
    "\n",
    "$$\\begin{aligned}\n",
    " E(\\bar{Y}) &= E\\left(\\frac{1}{n} \\sum\\limits_{i=1}^{n} Y_{i}    \\right) \\\\ \n",
    "            &= \\frac{1}{n} E\\left(\\sum\\limits_{i=1}^{n} Y_{i}    \\right) \n",
    "            = \\frac{1}{n} \\left( \\sum\\limits_{i=1}^{n} E(Y_{i}) \\right) \\\\\n",
    "            &= \\frac{1}{n} \\sum\\limits_{i=1}^{n} \\mu                     \n",
    "            = \\frac{1}{n} n \\mu                                         \n",
    "            = \\mu                                              \\end{aligned}$$"
   ]
  },
  {
   "cell_type": "markdown",
   "metadata": {},
   "source": [
    "Example: $s^{2}$ is an unbiased estimator of $\\sigma^{2}$.\n",
    "\n",
    "Let $\\left\\{Y_{1}, Y_{1}, \\ldots, Y_{n}\\right\\}$ denote a random sample\n",
    "from the population with\n",
    "\n",
    "-   $E(Y) = \\mu$\n",
    "\n",
    "-   $Var(Y) \\sigma^{2}$\n",
    "\n",
    "then\n",
    "\n",
    "$$s^{2} = \\frac{1}{n-1}\\sum\\limits_{i=1}^{n} (Y_{i} - \\bar{Y})^{2}$$\n",
    "\n",
    "This is usually called the **sample variance**.\n",
    "\n",
    "Note: the division by $n-1$ accounts for the fact that $\\mu$ is\n",
    "estimated by $\\bar{Y}$ and not known. If $\\mu$ were known\n",
    "$\\frac{1}{n} \\sum\\limits_{i=1}^{n} (Y_{i} - \\mu)^{2}$, would be an\n",
    "unbiased estimator."
   ]
  },
  {
   "cell_type": "markdown",
   "metadata": {},
   "source": [
    "Unbiasedness has some weaknesses:\n",
    "\n",
    "-   Some very reasonable, even very good, estimates are not unbiased.\n",
    "-   Some unbiased estimates are quite poor.\n",
    "\n",
    "For example:\n",
    "\n",
    "$$W = Y_{1} \\mbox{(i.e. discard all other observations)}$$\n",
    "\n",
    "It is an unbiased estimator $E(Y_{1}) = \\mu$."
   ]
  },
  {
   "cell_type": "markdown",
   "metadata": {},
   "source": [
    "Example: If $n = 100$, we have one hundred observation of the random\n",
    "variable $Y$, but we discard all but the first to estimate $E(Y)$."
   ]
  },
  {
   "cell_type": "markdown",
   "metadata": {},
   "source": [
    "The weaknesses of unbiasedness show that we need additional criteria to\n",
    "evaluate estimators. Unbiasedness ensures that the sampling distribution\n",
    "of an estimator has a mean value equal to the parameter it is\n",
    "estimating.\n",
    "\n",
    "We also want to know how spread out it is. The variance of an estimator\n",
    "is called its **sampling variance** because it is the variance\n",
    "associated with the sampling distribution."
   ]
  },
  {
   "cell_type": "markdown",
   "metadata": {},
   "source": [
    "Example: $$\\begin{aligned}\n",
    "Var(\\bar{Y}) &= Var\\left(\\frac{1}{n} \\sum\\limits_{i=1}^{n} Y_{i} \\right) \\\\\n",
    "             &= \\frac{1}{n^{2}} Var\\left( \\sum\\limits_{i=1}^{n} Y_{i} \\right) = \n",
    "                 \\frac{1}{n^{2}} \\left( \\sum\\limits_{i=1}^{n} Var(Y_{i}) \\right) \\\\\n",
    "             &= \\frac{1}{n^{2}} \\left( \\sum\\limits_{i=1}^{n} \\sigma^{2} \\right) = \n",
    "                 \\frac{1}{n^{2}} n \\sigma^{2} = \\frac{1}{n} \\sigma^{2} \\end{aligned}$$"
   ]
  },
  {
   "cell_type": "markdown",
   "metadata": {},
   "source": [
    "## References"
   ]
  },
  {
   "cell_type": "markdown",
   "metadata": {},
   "source": [
    "\n",
    "[Wooldridge, Jeffrey (2009) *Introductory Econometrics: A Modern Approach 4th Edition.*](<http://goo.gl/SIqGID>).                 "
   ]
  }
 ],
 "metadata": {
  "kernelspec": {
   "display_name": "Python 3",
   "language": "python",
   "name": "python3"
  },
  "language_info": {
   "codemirror_mode": {
    "name": "ipython",
    "version": 3
   },
   "file_extension": ".py",
   "mimetype": "text/x-python",
   "name": "python",
   "nbconvert_exporter": "python",
   "pygments_lexer": "ipython3",
   "version": "3.4.4"
  }
 },
 "nbformat": 4,
 "nbformat_minor": 0
}
