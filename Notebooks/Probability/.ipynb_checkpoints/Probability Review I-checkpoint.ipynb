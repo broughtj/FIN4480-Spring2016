{
 "cells": [
  {
   "cell_type": "markdown",
   "metadata": {},
   "source": [
    "# Elementary Probability Review I\n",
    "\n",
    "Tyler J. Brough"
   ]
  },
  {
   "cell_type": "markdown",
   "metadata": {},
   "source": [
    "## Elementary Probability Review I\n",
    "\n",
    "This is a review of elementary probability that will be useful for our\n",
    "study of asset pricing. It is based on coverage in Greene, as well as\n",
    "Wooldridge.\n",
    "\n",
    "Observational data sets econometrics apart from statistics. We will view\n",
    "an economic variable as an **outcome** from a **random process** not\n",
    "under the control of the researcher.\n",
    "\n",
    "The descriptive term for this underlying mechanism is the\n",
    "**data–generating process**, or **DGP**."
   ]
  },
  {
   "cell_type": "markdown",
   "metadata": {},
   "source": [
    "## Some Basic Concepts\n",
    "\n",
    "We view the outcome variable $X$ as a **random variable** because until it\n",
    "is observed we are not certain about its value.\n",
    "\n",
    "An **experiment** is a procedure that can (at least in theory) be\n",
    "infinitely repeated and has a well–defined set of outcomes.\n",
    "\n",
    "An example: flip a coin $10$ time and count the number of heads. Each\n",
    "time the experiment is repeated the outcome will be an integer between\n",
    "$0$ and $10$.\n",
    "\n",
    "A **random variable** is a variable that takes on numerical values and\n",
    "has an outcome that is determined by an experiment."
   ]
  },
  {
   "cell_type": "markdown",
   "metadata": {},
   "source": [
    "## An example:\n",
    "\n",
    "- An airline wants to decide how many reservations to book for a flight with $100$ seats.\n",
    "- If fewer than $100$ people want reservations they should book them all.\n",
    "- If more than $100$ people want reservations a safe bet may be to only book $100$. But not everyone will show up, resulting in lost revenue.\n",
    "- If they book too many they will have to compensate passengers for having to bump them."
   ]
  },
  {
   "cell_type": "markdown",
   "metadata": {},
   "source": [
    "## Notation\n",
    "\n",
    "- By convention, random variables are denoted by uppercase variables, such as $X$, $Y$, and $Z$.\n",
    "- The corresponding outcomes are denoted by lowercase letters $x$, $y$, $z$.\n",
    "\n",
    "In the coin flipping example $X$ denotes the number of heads in $10$\n",
    "flips. We don’t know ahead of time what value $X$ will take, but we know\n",
    "it will be in the set $\\{0, 1, 2, 3, 4, 5, 6, 7, 8, 9, 10\\}$. A\n",
    "particular outcome may be $x = 7$."
   ]
  },
  {
   "cell_type": "markdown",
   "metadata": {},
   "source": [
    "## Bernoulli Random Variables\n",
    "\n",
    "Random variables are defined to take on numerical values. So even in the\n",
    "coin flipping example, where the outcomes are “heads” and “tails”, we\n",
    "code the outcomes as follows:\n",
    "\n",
    "-   $X = 1$ for heads (success)\n",
    "-   $X = 0$ for tails (failure)\n",
    "\n",
    "A random variable that only takes on values $0$ and $1$ is a\n",
    "**Bernoulli** (or **binary**) **random variable**.\n",
    "\n",
    "A discrete random variable is one that takes on only a finite (or\n",
    "countably infinite) number of values. A binary variable is the simplest\n",
    "case of a discrete random variable. The only quantity that we need to\n",
    "completely describe its behavior is the probability that $X = 1$."
   ]
  },
  {
   "cell_type": "markdown",
   "metadata": {},
   "source": [
    "## The Coin Flipping Example\n",
    "\n",
    "In the coin flipping example (if the coin is “fair”) then\n",
    "\n",
    "-   $P(X = 1) = \\frac{1}{2}$\n",
    "-   $P(X = 0) = \\frac{1}{2}$"
   ]
  },
  {
   "cell_type": "markdown",
   "metadata": {},
   "source": [
    "## The Airline's Problem \n",
    "\n",
    "Consider again the airline’s problem of booking seats on a flight. We\n",
    "can analyze this with several binary variables. For a randomly selected\n",
    "passenger define a binary variable as $X = 1$ if she shows up for the\n",
    "flight, and $X = 0$ otherwise. There is no reason to believe in this\n",
    "case that $P(X = 1) = \\frac{1}{2}$, so we will define a *parameter*\n",
    "$\\theta$ so that:\n",
    "\n",
    "-   $P(X = 1) = \\theta$\n",
    "-   $P(X = 0) = 1 - \\theta$"
   ]
  },
  {
   "cell_type": "markdown",
   "metadata": {},
   "source": [
    "## Airline Problem Continued\n",
    "\n",
    "- For example, if $\\theta = 0.75$, then there is a $75\\%$ chance of the passenger showing up\n",
    "- That entails a $25\\%$ chance of not showing up.\n",
    "- In a real–life business situation the actual value of $\\theta$ is crucial in determining the airline’s strategy."
   ]
  },
  {
   "cell_type": "markdown",
   "metadata": {},
   "source": [
    "## Statistical Estimation\n",
    "\n",
    "Methods for *estimating* $\\theta$, given historical data on airline\n",
    "reservations is the subject of *mathematical statistics*.\n",
    "\n",
    "We will talk about this topic more when we get to mathematical statistics."
   ]
  },
  {
   "cell_type": "markdown",
   "metadata": {},
   "source": [
    "## Discrete Random Variables\n",
    "\n",
    "Generally, a discrete random variable is completely described by listing\n",
    "the set of possible outcomes and the associated probability that it\n",
    "takes on each value.\n",
    "\n",
    "If $X$ has $k$ possible values $\\{x_{1}, x_{2}, \\ldots, x_{k}\\}$ then\n",
    "the probabilities $p_{1}, p_{2}, \\ldots, p_{k}$ are defined by:\n",
    "\n",
    "-   $p_{j} = P(X = x_{j})$, for $j = 1, 2, \\ldots, k$\n",
    "-   $0 \\leq p_{j} \\leq 1$\n",
    "-   $\\sum\\limits_{j=1}^{k} p_{j} = 1$"
   ]
  },
  {
   "cell_type": "markdown",
   "metadata": {},
   "source": [
    "## Probability Distribution Functions\n",
    "\n",
    "The **probability function** or (**PDF**) of $X$ summarizes the\n",
    "information concerning the possible outcomes of $X$ and the\n",
    "corresponding probabilities:\n",
    "\n",
    "$$f(x_{j}) = p_{j}, \\quad \\mbox{$j = 1, 2, \\ldots, k$}$$\n",
    "\n",
    "For any real number $x$, $f(x)$ is the probability that the random\n",
    "variable $X$ takes on the particular value $x$."
   ]
  },
  {
   "cell_type": "markdown",
   "metadata": {},
   "source": [
    "## An Example\n",
    "\n",
    "An example: Suppose that $X$ is the number of free throws made by Larry\n",
    "Bird out of two attempts. $X$ can take on the three values\n",
    "$\\{0, 1, 2\\}$. Assume the PDF of $X$ is given by\n",
    "\n",
    "-   $f(0) = 0.20$\n",
    "-   $f(1) = 0.44$\n",
    "-   $f(2) = 0.36$"
   ]
  },
  {
   "cell_type": "markdown",
   "metadata": {},
   "source": [
    "## Example Continued\n",
    "\n",
    "We can calculate the probability that Larry Bird will make at least one\n",
    "free throw:\n",
    "\n",
    "$$\\begin{aligned}\n",
    "P(X \\geq 1) &= P(X = 1) + P(X = 2) \\\\\n",
    "            &= 0.44 + 0.36 \\\\\n",
    "            &= 0.80 \\end{aligned}$$"
   ]
  },
  {
   "cell_type": "markdown",
   "metadata": {},
   "source": [
    "## Graphing the Discrete PDF\n",
    "\n",
    "![](Larry.jpeg)"
   ]
  },
  {
   "cell_type": "markdown",
   "metadata": {},
   "source": [
    "## Notation for Two or More Random Variables\n",
    "\n",
    "When dealing with more than two random variables we subscript the PDF’s\n",
    "as follows:\n",
    "\n",
    "-   $f_{x}$ is the PDF of $X$\n",
    "-   $f_{y}$ is the PDF of $Y$"
   ]
  },
  {
   "cell_type": "markdown",
   "metadata": {},
   "source": [
    "## Continuous Random Variables\n",
    "\n",
    "A variable $X$ is a **continuous random variable** if it takes on any\n",
    "real value with *zero* probability. A continuous random variable $X$ can\n",
    "take on so many possible values that they are not countable, so logical\n",
    "consistency requires that each one has probability zero."
   ]
  },
  {
   "cell_type": "markdown",
   "metadata": {},
   "source": [
    "## Examples:\n",
    "\n",
    "-   Prices\n",
    "-   Wages\n",
    "-   Interest rates\n",
    "-   Height\n",
    "-   Weight\n",
    "-   Waiting time"
   ]
  },
  {
   "cell_type": "markdown",
   "metadata": {},
   "source": [
    "## References"
   ]
  },
  {
   "cell_type": "markdown",
   "metadata": {},
   "source": [
    "\n",
    "[Wooldridge, Jeffrey (2009) *Introductory Econometrics: A Modern Approach 4th Edition.*](<http://goo.gl/SIqGID>).        "
   ]
  }
 ],
 "metadata": {
  "kernelspec": {
   "display_name": "Python 3",
   "language": "python",
   "name": "python3"
  },
  "language_info": {
   "codemirror_mode": {
    "name": "ipython",
    "version": 3
   },
   "file_extension": ".py",
   "mimetype": "text/x-python",
   "name": "python",
   "nbconvert_exporter": "python",
   "pygments_lexer": "ipython3",
   "version": "3.4.4"
  }
 },
 "nbformat": 4,
 "nbformat_minor": 0
}
