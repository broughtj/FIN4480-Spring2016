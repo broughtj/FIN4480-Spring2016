{
 "cells": [
  {
   "cell_type": "markdown",
   "metadata": {},
   "source": [
    "### Finance 4480\n",
    "**Spring 2016** \n",
    "\n",
    "**Basic Python** "
   ]
  },
  {
   "cell_type": "markdown",
   "metadata": {},
   "source": [
    "# Writing a *Very* Simple First Program: The Game Over Program"
   ]
  },
  {
   "cell_type": "markdown",
   "metadata": {},
   "source": [
    "Let's write a super simple program that gives the following output when it runs:"
   ]
  },
  {
   "cell_type": "markdown",
   "metadata": {},
   "source": [
    "![](GameOver.png)"
   ]
  },
  {
   "cell_type": "markdown",
   "metadata": {},
   "source": [
    "The code to do this in `Python` is very simple:"
   ]
  },
  {
   "cell_type": "code",
   "execution_count": 2,
   "metadata": {
    "collapsed": false
   },
   "outputs": [
    {
     "name": "stdout",
     "output_type": "stream",
     "text": [
      "Game Over\n",
      "\n",
      "\n",
      "Press the enter key to exit.\n"
     ]
    },
    {
     "data": {
      "text/plain": [
       "''"
      ]
     },
     "execution_count": 2,
     "metadata": {},
     "output_type": "execute_result"
    }
   ],
   "source": [
    "print(\"Game Over\")\n",
    "input(\"\\n\\nPress the enter key to exit.\")"
   ]
  },
  {
   "cell_type": "markdown",
   "metadata": {},
   "source": [
    "We can write this in a `Python` script as follows:\n",
    "\n",
    "~~~python\n",
    "# Game Over\n",
    "# Demonstrates the use of the print and input functions\n",
    "print(\"Game Over\")\n",
    "input(\"\\n\\nPress the enter key to exit.\")\n",
    "~~~\n",
    "\n",
    "For example, we could use a text editor (like the one built into the Syder IDE) and\n",
    "save the file as *game_over.py*"
   ]
  },
  {
   "cell_type": "markdown",
   "metadata": {},
   "source": [
    "This simple code demonstrates a few things:\n",
    "\n",
    "- The use of comments with the `#` character. Anything on a line after a `#` is ignored by `Python`.\n",
    "- The use of the builtin function `print` to disply information to the console.\n",
    "- The use of the builtin function `input` to get information from the user into the program.\n",
    "- The use of string literals such as `\"Game Over\"`.\n",
    "- Top level code. This basically means `Python` statements executed one after another in a text file.\n",
    "- Syntax highlighting of keywords such as `print` and `input`. These are reserved words in the `Python` syntax."
   ]
  },
  {
   "cell_type": "markdown",
   "metadata": {},
   "source": [
    "When this code is executed we get the output like in the picture above."
   ]
  },
  {
   "cell_type": "markdown",
   "metadata": {},
   "source": [
    "As our codes become more complex we will want to make sure they remain manageable and easy to use. We will introduce some structure to do that. It won't be obvious at first how this helps, but as our codes grow more complex this will be good practice that will protect us and keep things manageable."
   ]
  },
  {
   "cell_type": "markdown",
   "metadata": {},
   "source": [
    "We have seen how to use builtin functions like `print` and `input`. `Python` allows to write our own. \n",
    "\n",
    "One function that we will write for each script will be the `main` function. This is a way to mimic the `main` function in other programming languages like `C/C++`, `C#`, and `Java`. "
   ]
  },
  {
   "cell_type": "markdown",
   "metadata": {},
   "source": [
    "Defining a new function is very simple. We just use the `def` keyword as follows. Let's say we want to write a simple function that adds two integers together and returns the result. We could do this with the following code:"
   ]
  },
  {
   "cell_type": "code",
   "execution_count": 3,
   "metadata": {
    "collapsed": true
   },
   "outputs": [],
   "source": [
    "def addTwo(x, y):\n",
    "    value = x + y\n",
    "    return value"
   ]
  },
  {
   "cell_type": "markdown",
   "metadata": {},
   "source": [
    "Then we can call the new function like this:"
   ]
  },
  {
   "cell_type": "code",
   "execution_count": 4,
   "metadata": {
    "collapsed": false
   },
   "outputs": [
    {
     "data": {
      "text/plain": [
       "15"
      ]
     },
     "execution_count": 4,
     "metadata": {},
     "output_type": "execute_result"
    }
   ],
   "source": [
    "addTwo(6, 9)"
   ]
  },
  {
   "cell_type": "markdown",
   "metadata": {},
   "source": [
    "So we can write some simple functions to help us structure our codes. Let's see how we might do this for the *Game Over* program:"
   ]
  },
  {
   "cell_type": "code",
   "execution_count": 6,
   "metadata": {
    "collapsed": false
   },
   "outputs": [
    {
     "name": "stdout",
     "output_type": "stream",
     "text": [
      "Game Over\n",
      "\n",
      "\n",
      "Press the enter key to exit.\n"
     ]
    }
   ],
   "source": [
    "## This is a silly redudent function, but gives you the idea of a worker function that the main\n",
    "## function can farm work out to\n",
    "def printMessage(message):\n",
    "    print(message)\n",
    "\n",
    "## The main function is the brains of the program, where it all happens. Like the command and\n",
    "## control center\n",
    "def main():\n",
    "    message = \"Game Over\"\n",
    "    printMessage(message)\n",
    "    input(\"\\n\\nPress the enter key to exit.\")\n",
    "    \n",
    "## Call to main - from where it actually runs (i.e. top level code)\n",
    "main()"
   ]
  },
  {
   "cell_type": "markdown",
   "metadata": {},
   "source": [
    "For this super simple program it seems like overkill. But trust me: you will soon see how this will help you as your codes get even moderately complex. It will allow you to keep a mental map to help you organize and plan out your codes. "
   ]
  },
  {
   "cell_type": "markdown",
   "metadata": {},
   "source": [
    "## References"
   ]
  },
  {
   "cell_type": "markdown",
   "metadata": {},
   "source": [
    "These notes are based off of Chapter 1 from the excellent book:\n",
    "\n",
    "[Python Programming for the Absolute Beginner 3rd Edition](http://goo.gl/Rqw9Qv)"
   ]
  }
 ],
 "metadata": {
  "kernelspec": {
   "display_name": "Python 3",
   "language": "python",
   "name": "python3"
  },
  "language_info": {
   "codemirror_mode": {
    "name": "ipython",
    "version": 3
   },
   "file_extension": ".py",
   "mimetype": "text/x-python",
   "name": "python",
   "nbconvert_exporter": "python",
   "pygments_lexer": "ipython3",
   "version": "3.4.4"
  }
 },
 "nbformat": 4,
 "nbformat_minor": 0
}
